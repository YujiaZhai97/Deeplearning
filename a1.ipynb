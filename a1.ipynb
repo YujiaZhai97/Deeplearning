{
  "nbformat": 4,
  "nbformat_minor": 0,
  "metadata": {
    "colab": {
      "name": "a1.ipynb",
      "provenance": [],
      "collapsed_sections": []
    },
    "kernelspec": {
      "name": "python3",
      "display_name": "Python 3"
    },
    "accelerator": "GPU"
  },
  "cells": [
    {
      "cell_type": "markdown",
      "metadata": {
        "id": "-PZihj-d_tEt"
      },
      "source": [
        "**Assignment 1**\n",
        "\n",
        "## About\n",
        "In this assignment, you will gain experience implementing a linear model, a neural network, and a deep neural network using TensorFlow 2.0. \n",
        "\n",
        "* You will use two different development styles. I thought it’d be helpful for you to see both of these early (if you’re familiar with them, you can branch out to any major framework that exist today). \n",
        "\n",
        "* Along the way, you'll add code to visualize the weights of a linear model, and provide your own implementation of softmax (so you learn to extend the built-in functionality right off the bat).\n",
        "\n",
        "This assignment has several parts, plan ahead and get started early (and come to office hours if you’re stuck, the TAs and I are happy to help). Most concepts will be covered in lecture two, just posting it early.\n",
        "\n",
        "## Instructions\n",
        "\n",
        "Complete the code in this notebook by searching for the text **\"TODO\"**.\n",
        "\n",
        "## Submission instructions\n",
        "\n",
        "Please submit this assignment on CourseWorks by uploading a Jupyter notebook that includes saved output. If you are working in Colab, you can prepare your notebook for submission by ensuring that runs end-to-end, then saving and downloading it:\n",
        "\n",
        "1. ```Runtime -> Restart and run all```\n",
        "1. ```File -> Save```\n",
        "1. ```File -> Download.ipynb```\n",
        "\n",
        "## Resources\n",
        "\n",
        "You can find all the latest tutorials for TensorFlow 2.0 [here](https://www.tensorflow.org/tutorials). Code examples that will help you with each part of the assignment are linked below.\n",
        "\n",
        "\n",
        "\n",
        "---\n",
        "\n"
      ]
    },
    {
      "cell_type": "markdown",
      "metadata": {
        "id": "KZ5ssDBBl9n6"
      },
      "source": [
        "## Setup"
      ]
    },
    {
      "cell_type": "markdown",
      "metadata": {
        "id": "MDj1_w6v-mYW"
      },
      "source": [
        "### Install TensorFlow 2.0\n",
        "\n",
        "If you are running this notebook in Colab, the magic command below will install the most recent version. If you prefer working in Jupyter locally, you will need to install TensorFlow 2.0 on your system, using ```!pip install tensorflow==2.1.0```."
      ]
    },
    {
      "cell_type": "code",
      "metadata": {
        "id": "m1wARst_UkEi",
        "outputId": "be143717-7388-475d-f205-ec096e6cc558",
        "colab": {
          "base_uri": "https://localhost:8080/",
          "height": 34
        }
      },
      "source": [
        "%tensorflow_version 2.x"
      ],
      "execution_count": null,
      "outputs": [
        {
          "output_type": "stream",
          "text": [
            "TensorFlow 2.x selected.\n"
          ],
          "name": "stdout"
        }
      ]
    },
    {
      "cell_type": "markdown",
      "metadata": {
        "id": "QYSALG-y-_7b"
      },
      "source": [
        "### Check which TF version is installed\n",
        "TensorFlow 2.0 is currently under development. It's good practice to check which version you have installed. All the code you'll write in this course will be for version 2.0 (currently in beta)."
      ]
    },
    {
      "cell_type": "code",
      "metadata": {
        "id": "21RQ0x71Ut_t",
        "outputId": "9e8479ce-01ea-4955-fbdf-4f2f881ba94a",
        "colab": {
          "base_uri": "https://localhost:8080/",
          "height": 34
        }
      },
      "source": [
        "import tensorflow as tf\n",
        "print(tf.__version__)"
      ],
      "execution_count": null,
      "outputs": [
        {
          "output_type": "stream",
          "text": [
            "2.1.0\n"
          ],
          "name": "stdout"
        }
      ]
    },
    {
      "cell_type": "code",
      "metadata": {
        "id": "JQPA61YHUvht"
      },
      "source": [
        "from tensorflow.keras.layers import Dense, Flatten \n",
        "from tensorflow.keras import Model\n",
        "import matplotlib.pyplot as plt\n",
        "import numpy as np"
      ],
      "execution_count": null,
      "outputs": []
    },
    {
      "cell_type": "markdown",
      "metadata": {
        "id": "9vfWS0eYvzae"
      },
      "source": [
        "## Part 1: First steps with Sequential models\n",
        "\n",
        "You will work with the Sequential API in this section. This is the easiest way to develop models with TF 2.0, and is the most common in practice. \n",
        "\n",
        "Here are a few code examples that will help you with this part of the assignment:\n",
        "\n",
        "* [Get started for beginners](https://www.tensorflow.org/tutorials/quickstart/beginner)\n",
        "* [Classify images](https://www.tensorflow.org/tutorials/keras/basic_classification)\n",
        "* [Explore overfitting and underfitting](https://www.tensorflow.org/tutorials/keras/overfit_and_underfit)"
      ]
    },
    {
      "cell_type": "markdown",
      "metadata": {
        "id": "6X5681LTm0jC"
      },
      "source": [
        "### Download and prepare a dataset"
      ]
    },
    {
      "cell_type": "code",
      "metadata": {
        "id": "KHL51OKlmwyw"
      },
      "source": [
        "mnist = tf.keras.datasets.mnist\n",
        "\n",
        "(x_train, y_train), (x_test, y_test) = mnist.load_data()\n",
        "x_train, x_test = x_train / 255.0, x_test / 255.0"
      ],
      "execution_count": null,
      "outputs": []
    },
    {
      "cell_type": "markdown",
      "metadata": {
        "id": "daw-THC6m4u6"
      },
      "source": [
        "### Define, train, and evaluate a linear model"
      ]
    },
    {
      "cell_type": "code",
      "metadata": {
        "id": "MHWcSJEQm8jB",
        "outputId": "876df480-12c9-4360-fd6c-1b7abc610f5f",
        "colab": {
          "base_uri": "https://localhost:8080/",
          "height": 235
        }
      },
      "source": [
        "model = tf.keras.models.Sequential([\n",
        "  tf.keras.layers.Flatten(input_shape=(28, 28)),\n",
        "  tf.keras.layers.Dense(10, activation='softmax')\n",
        "])\n",
        "\n",
        "model.compile(optimizer='adam',\n",
        "              loss='sparse_categorical_crossentropy',\n",
        "              metrics=['accuracy'])\n",
        "\n",
        "model.fit(x_train, y_train, epochs=5)\n",
        "model.evaluate(x_test, y_test)"
      ],
      "execution_count": null,
      "outputs": [
        {
          "output_type": "stream",
          "text": [
            "Train on 60000 samples\n",
            "Epoch 1/5\n",
            "60000/60000 [==============================] - 7s 120us/sample - loss: 0.4647 - accuracy: 0.8780\n",
            "Epoch 2/5\n",
            "60000/60000 [==============================] - 5s 89us/sample - loss: 0.3037 - accuracy: 0.9152\n",
            "Epoch 3/5\n",
            "60000/60000 [==============================] - 5s 82us/sample - loss: 0.2834 - accuracy: 0.9205\n",
            "Epoch 4/5\n",
            "60000/60000 [==============================] - 5s 84us/sample - loss: 0.2728 - accuracy: 0.9241\n",
            "Epoch 5/5\n",
            "60000/60000 [==============================] - 5s 82us/sample - loss: 0.2663 - accuracy: 0.9260\n",
            "10000/10000 [==============================] - 1s 79us/sample - loss: 0.2674 - accuracy: 0.9254\n"
          ],
          "name": "stdout"
        },
        {
          "output_type": "execute_result",
          "data": {
            "text/plain": [
              "[0.26741184256374834, 0.9254]"
            ]
          },
          "metadata": {
            "tags": []
          },
          "execution_count": 5
        }
      ]
    },
    {
      "cell_type": "markdown",
      "metadata": {
        "id": "KyLE9HJbwRDp"
      },
      "source": [
        "### 1a: Plot loss and accuracy\n",
        "\n",
        "**TODO**\n",
        "\n",
        "Modify the code below to produce plots showing loss and accuracy as a function of epochs on training and validation data (it's fine to use x_test and y_test as validation data for this assignment). To do so, you will need to add validation data to the call for ```model.fit```, and capture the results in a history object. Code for plotting is provided for you, you can pass your history object to this.\n",
        "\n",
        "![Plot 1](https://storage.googleapis.com/applied-dl/im/a1-1.png)\n",
        "![Plot 2](https://storage.googleapis.com/applied-dl/im/a1-2.png)\n"
      ]
    },
    {
      "cell_type": "code",
      "metadata": {
        "id": "xGFjRexynN11",
        "outputId": "9eee155d-e74c-4195-cc0c-74d5d85398fd",
        "colab": {
          "base_uri": "https://localhost:8080/",
          "height": 926
        }
      },
      "source": [
        "model = tf.keras.models.Sequential([\n",
        "  tf.keras.layers.Flatten(input_shape=(28, 28)),\n",
        "  tf.keras.layers.Dense(10, activation='softmax')\n",
        "])\n",
        "\n",
        "model.compile(optimizer='adam',\n",
        "              loss='sparse_categorical_crossentropy',\n",
        "              metrics=['accuracy'])\n",
        "\n",
        "\n",
        "# 1. create a history object to store the results of model.fit\n",
        "# ```history = model.fit(...)```\n",
        "# 2. add another parameter to model.fit for validation data\n",
        "# https://keras.io/models/sequential/\n",
        "history = model.fit(x_train, y_train, epochs=10,validation_data=(x_test, y_test))\n",
        "\n",
        "# A plotting function you can reuse\n",
        "def plot(history):\n",
        "  \n",
        "  # The history object contains results on the training and test\n",
        "  # sets for each epoch\n",
        "  acc = history.history['accuracy']\n",
        "  val_acc = history.history['val_accuracy']\n",
        "  loss = history.history['loss']\n",
        "  val_loss = history.history['val_loss']\n",
        "\n",
        "  # Get the number of epochs\n",
        "  epochs = range(len(acc))\n",
        "\n",
        "  plt.title('Training and validation accuracy')\n",
        "  plt.plot(epochs, acc, color='blue', label='Train')\n",
        "  plt.plot(epochs, val_acc, color='orange', label='Val')\n",
        "  plt.xlabel('Epoch')\n",
        "  plt.ylabel('Accuracy')\n",
        "  plt.legend()\n",
        "\n",
        "  _ = plt.figure()\n",
        "  plt.title('Training and validation loss')\n",
        "  plt.plot(epochs, loss, color='blue', label='Train')\n",
        "  plt.plot(epochs, val_loss, color='orange', label='Val')\n",
        "  plt.xlabel('Epoch')\n",
        "  plt.ylabel('Loss')\n",
        "  plt.legend()\n",
        "  \n",
        "plot(history)"
      ],
      "execution_count": null,
      "outputs": [
        {
          "output_type": "stream",
          "text": [
            "Train on 60000 samples, validate on 10000 samples\n",
            "Epoch 1/10\n",
            "60000/60000 [==============================] - 6s 101us/sample - loss: 0.4731 - accuracy: 0.8748 - val_loss: 0.3116 - val_accuracy: 0.9133\n",
            "Epoch 2/10\n",
            "60000/60000 [==============================] - 6s 99us/sample - loss: 0.3045 - accuracy: 0.9149 - val_loss: 0.2817 - val_accuracy: 0.9203\n",
            "Epoch 3/10\n",
            "60000/60000 [==============================] - 6s 94us/sample - loss: 0.2838 - accuracy: 0.9209 - val_loss: 0.2730 - val_accuracy: 0.9223\n",
            "Epoch 4/10\n",
            "60000/60000 [==============================] - 6s 96us/sample - loss: 0.2735 - accuracy: 0.9231 - val_loss: 0.2673 - val_accuracy: 0.9252\n",
            "Epoch 5/10\n",
            "60000/60000 [==============================] - 6s 93us/sample - loss: 0.2667 - accuracy: 0.9258 - val_loss: 0.2672 - val_accuracy: 0.9255\n",
            "Epoch 6/10\n",
            "60000/60000 [==============================] - 6s 98us/sample - loss: 0.2620 - accuracy: 0.9275 - val_loss: 0.2661 - val_accuracy: 0.9261\n",
            "Epoch 7/10\n",
            "60000/60000 [==============================] - 6s 99us/sample - loss: 0.2582 - accuracy: 0.9280 - val_loss: 0.2681 - val_accuracy: 0.9242\n",
            "Epoch 8/10\n",
            "60000/60000 [==============================] - 6s 95us/sample - loss: 0.2555 - accuracy: 0.9291 - val_loss: 0.2626 - val_accuracy: 0.9289\n",
            "Epoch 9/10\n",
            "60000/60000 [==============================] - 6s 94us/sample - loss: 0.2531 - accuracy: 0.9304 - val_loss: 0.2687 - val_accuracy: 0.9258\n",
            "Epoch 10/10\n",
            "60000/60000 [==============================] - 6s 94us/sample - loss: 0.2509 - accuracy: 0.9310 - val_loss: 0.2654 - val_accuracy: 0.9264\n"
          ],
          "name": "stdout"
        },
        {
          "output_type": "display_data",
          "data": {
            "image/png": "[encoded data removed]",
            "text/plain": [
              "<Figure size 432x288 with 1 Axes>"
            ]
          },
          "metadata": {
            "tags": []
          }
        },
        {
          "output_type": "display_data",
          "data": {
            "image/png": "[encoded data removed]",
            "text/plain": [
              "<Figure size 432x288 with 1 Axes>"
            ]
          },
          "metadata": {
            "tags": []
          }
        }
      ]
    },
    {
      "cell_type": "markdown",
      "metadata": {
        "id": "4EhrKNT8wfgD"
      },
      "source": [
        "### 1b: Implement a neural network \n",
        "\n",
        "**TODO**\n",
        "\n",
        "Modify the code below to create a neural network (with a single hidden layer). Add a Dense layer with 128 units and ReLU activation. Train and evaluate your model. How does the accuracy compare with the linear model above? It is not necessary to produce plots for this section."
      ]
    },
    {
      "cell_type": "code",
      "metadata": {
        "id": "FYUgpSwPq-HF",
        "outputId": "d1eea4f3-06bc-452f-ff4c-48941733ec0f",
        "colab": {
          "base_uri": "https://localhost:8080/",
          "height": 218
        }
      },
      "source": [
        "model = tf.keras.models.Sequential([\n",
        "  tf.keras.layers.Flatten(input_shape=(28, 28)),\n",
        "  # Modify me\n",
        "  tf.keras.layers.Dense(128, activation='relu'),\n",
        "  tf.keras.layers.Dense(10, activation='softmax')\n",
        "])\n",
        "\n",
        "model.compile(optimizer='adam',\n",
        "              loss='sparse_categorical_crossentropy',\n",
        "              metrics=['accuracy'])\n",
        "\n",
        "model.fit(x_train, y_train, epochs=5)"
      ],
      "execution_count": null,
      "outputs": [
        {
          "output_type": "stream",
          "text": [
            "Train on 60000 samples\n",
            "Epoch 1/5\n",
            "60000/60000 [==============================] - 5s 90us/sample - loss: 0.2569 - accuracy: 0.9265\n",
            "Epoch 2/5\n",
            "60000/60000 [==============================] - 5s 86us/sample - loss: 0.1137 - accuracy: 0.9672\n",
            "Epoch 3/5\n",
            "60000/60000 [==============================] - 5s 85us/sample - loss: 0.0790 - accuracy: 0.9762\n",
            "Epoch 4/5\n",
            "60000/60000 [==============================] - 5s 84us/sample - loss: 0.0585 - accuracy: 0.9825\n",
            "Epoch 5/5\n",
            "60000/60000 [==============================] - 5s 86us/sample - loss: 0.0443 - accuracy: 0.9865\n"
          ],
          "name": "stdout"
        },
        {
          "output_type": "execute_result",
          "data": {
            "text/plain": [
              "<tensorflow.python.keras.callbacks.History at 0x7fc33ff71780>"
            ]
          },
          "metadata": {
            "tags": []
          },
          "execution_count": 7
        }
      ]
    },
    {
      "cell_type": "markdown",
      "metadata": {
        "id": "V18pDvPzwh6l"
      },
      "source": [
        "### 1c: Implement a deep neural network \n",
        "\n",
        "**TODO**\n",
        "\n",
        "Modify the code below to create and train a deep neural network with at least two hidden layers."
      ]
    },
    {
      "cell_type": "code",
      "metadata": {
        "id": "K0odgGhmrNNh",
        "outputId": "333d0136-0478-47ff-9d2c-b5b8d116e8ee",
        "colab": {
          "base_uri": "https://localhost:8080/",
          "height": 218
        }
      },
      "source": [
        "model = tf.keras.models.Sequential([\n",
        "  tf.keras.layers.Flatten(input_shape=(28, 28)),\n",
        "  # Modify me\n",
        "  tf.keras.layers.Dense(128, activation='relu'),\n",
        "  tf.keras.layers.Dense(128, activation='relu'),\n",
        "  tf.keras.layers.Dense(10, activation='softmax')\n",
        "])\n",
        "\n",
        "model.compile(optimizer='adam',\n",
        "              loss='sparse_categorical_crossentropy',\n",
        "              metrics=['accuracy'])\n",
        "\n",
        "model.fit(x_train, y_train, epochs=5)"
      ],
      "execution_count": null,
      "outputs": [
        {
          "output_type": "stream",
          "text": [
            "Train on 60000 samples\n",
            "Epoch 1/5\n",
            "60000/60000 [==============================] - 6s 95us/sample - loss: 0.2277 - accuracy: 0.9316\n",
            "Epoch 2/5\n",
            "60000/60000 [==============================] - 6s 99us/sample - loss: 0.0973 - accuracy: 0.9697\n",
            "Epoch 3/5\n",
            "60000/60000 [==============================] - 6s 99us/sample - loss: 0.0692 - accuracy: 0.9776\n",
            "Epoch 4/5\n",
            "60000/60000 [==============================] - 6s 92us/sample - loss: 0.0516 - accuracy: 0.9827\n",
            "Epoch 5/5\n",
            "60000/60000 [==============================] - 6s 92us/sample - loss: 0.0403 - accuracy: 0.9866\n"
          ],
          "name": "stdout"
        },
        {
          "output_type": "execute_result",
          "data": {
            "text/plain": [
              "<tensorflow.python.keras.callbacks.History at 0x7fc33fe65978>"
            ]
          },
          "metadata": {
            "tags": []
          },
          "execution_count": 8
        }
      ]
    },
    {
      "cell_type": "markdown",
      "metadata": {
        "id": "NkmnVGG-wnyw"
      },
      "source": [
        "### 1d: Display predictions and their confidence \n",
        "\n",
        "**TODO**\n",
        "\n",
        "1. Choose one of your models above. Use it to make predictions on the entire test set using ```model.predict```\n",
        "\n",
        "2. Next, identify one image from the testing set the model classifies correctly, and another that it classifies incorrectly. Add code to display these images below, the correct labels, the predicted labels, and the confidence scores."
      ]
    },
    {
      "cell_type": "code",
      "metadata": {
        "id": "BPd5NvaV1XEx"
      },
      "source": [
        "# TODO: add your code here.\n",
        "predictions = model.predict(x_test)"
      ],
      "execution_count": null,
      "outputs": []
    },
    {
      "cell_type": "code",
      "metadata": {
        "id": "hylhktXg2mgH",
        "outputId": "ef5039b1-7820-468f-bc0f-c3391935ffd2",
        "colab": {
          "base_uri": "https://localhost:8080/",
          "height": 67
        }
      },
      "source": [
        "predictions[0]"
      ],
      "execution_count": null,
      "outputs": [
        {
          "output_type": "execute_result",
          "data": {
            "text/plain": [
              "array([2.2816991e-08, 9.2965388e-07, 1.9107678e-05, 2.5223673e-05,\n",
              "       5.8178743e-11, 3.8920351e-08, 1.8309267e-11, 9.9994659e-01,\n",
              "       4.2844189e-07, 7.7122886e-06], dtype=float32)"
            ]
          },
          "metadata": {
            "tags": []
          },
          "execution_count": 10
        }
      ]
    },
    {
      "cell_type": "code",
      "metadata": {
        "id": "XluSm8E62tRc",
        "outputId": "d3de9bb5-d12a-4c95-d120-87d0e709f641",
        "colab": {
          "base_uri": "https://localhost:8080/",
          "height": 34
        }
      },
      "source": [
        "np.argmax(predictions[0])"
      ],
      "execution_count": null,
      "outputs": [
        {
          "output_type": "execute_result",
          "data": {
            "text/plain": [
              "7"
            ]
          },
          "metadata": {
            "tags": []
          },
          "execution_count": 11
        }
      ]
    },
    {
      "cell_type": "code",
      "metadata": {
        "id": "nuL5T07m2vo9",
        "outputId": "c87b1aff-be1f-4771-8cbb-c97311af0cf2",
        "colab": {
          "base_uri": "https://localhost:8080/",
          "height": 34
        }
      },
      "source": [
        "y_test[0]"
      ],
      "execution_count": null,
      "outputs": [
        {
          "output_type": "execute_result",
          "data": {
            "text/plain": [
              "7"
            ]
          },
          "metadata": {
            "tags": []
          },
          "execution_count": 12
        }
      ]
    },
    {
      "cell_type": "code",
      "metadata": {
        "id": "goFNa-_r21m8",
        "outputId": "568d244d-0220-49e4-dc3f-af5ae669dcac",
        "colab": {
          "base_uri": "https://localhost:8080/",
          "height": 265
        }
      },
      "source": [
        "i=0\n",
        "plt.figure()\n",
        "plt.imshow(x_test[i])\n",
        "plt.show()"
      ],
      "execution_count": null,
      "outputs": [
        {
          "output_type": "display_data",
          "data": {
            "image/png": "[encoded data removed]",
            "text/plain": [
              "<Figure size 432x288 with 1 Axes>"
            ]
          },
          "metadata": {
            "tags": []
          }
        }
      ]
    },
    {
      "cell_type": "code",
      "metadata": {
        "id": "0FebyFC02xfp",
        "outputId": "94e7f62a-93fd-457d-b91c-6ba8cdd70f95",
        "colab": {
          "base_uri": "https://localhost:8080/",
          "height": 334
        }
      },
      "source": [
        "plt.figure(figsize=(10,5))\n",
        "plt.subplot(1,2,1)\n",
        "for j in range(predictions.shape[0]):\n",
        "  if np.argmax(predictions[j]) == y_test[j]:\n",
        "    pred = np.argmax(predictions[j])\n",
        "    plt.xticks([])\n",
        "    plt.yticks([])\n",
        "    plt.imshow(x_test[j], cmap=plt.cm.binary)\n",
        "    plt.grid(False)\n",
        "    plt.title('correct one: %s'%y_test[j]+'\\n predicted label: %i'%pred+'\\n confidence score: %.3f'%predictions[j][pred])\n",
        "    break\n",
        "plt.subplot(1,2,2)\n",
        "for j in range(predictions.shape[0]):\n",
        "  if np.argmax(predictions[j]) != y_test[j]:\n",
        "    pred = np.argmax(predictions[j])\n",
        "    plt.xticks([])\n",
        "    plt.yticks([])\n",
        "    plt.imshow(x_test[j], cmap=plt.cm.binary)\n",
        "    plt.grid(False)\n",
        "    plt.title('correct one: %s'%y_test[j]+'\\n predicted label: %i'%pred+'\\n confidence score: %.3f'%predictions[j][pred])\n",
        "    break"
      ],
      "execution_count": null,
      "outputs": [
        {
          "output_type": "display_data",
          "data": {
            "image/png": "[encoded data removed]",
            "text/plain": [
              "<Figure size 720x360 with 2 Axes>"
            ]
          },
          "metadata": {
            "tags": []
          }
        }
      ]
    },
    {
      "cell_type": "markdown",
      "metadata": {
        "id": "ca0nFGJdv3H2"
      },
      "source": [
        "## Part 2: Subclassed models\n",
        "\n",
        "In this part of the assignment, you'll work with the Keras Subclassing API. Instead of using a built-in method (```model.fit```) you will train models using a GradientTape.\n",
        "\n",
        "Here are a few code examples that will help you with this part of the assignment:\n",
        "\n",
        "* [Get started for experts](https://www.tensorflow.org/tutorials/quickstart/advanced)\n",
        "* [Tensors and operations](https://www.tensorflow.org/tutorials/eager/basics)\n",
        "* [Keras overview](https://www.tensorflow.org/guide/keras/overview)"
      ]
    },
    {
      "cell_type": "markdown",
      "metadata": {
        "id": "xB6r75B5teHv"
      },
      "source": [
        "### Download and prepare a dataset\n",
        "This is similar to the above, except now we'll use ```tf.data``` to batch and shuffle the data, instead of the utilities baked into ```model.fit```. It's not necessary for this assignment, but if you wish, you can learn how to use tf.data [here](https://www.tensorflow.org/beta/tutorials/load_data/images)."
      ]
    },
    {
      "cell_type": "code",
      "metadata": {
        "id": "kYbkeJJqtm0h"
      },
      "source": [
        "# Download a dataset\n",
        "(x_train, y_train), (x_test, y_test) = tf.keras.datasets.mnist.load_data()\n",
        "\n",
        "# Batch and shuffle the data\n",
        "train_ds = tf.data.Dataset.from_tensor_slices(\n",
        "    (x_train.astype('float32') / 255, y_train)).shuffle(1024).batch(32)\n",
        "\n",
        "test_ds = tf.data.Dataset.from_tensor_slices(\n",
        "    (x_test.astype('float32') / 255, y_test)).batch(32)"
      ],
      "execution_count": null,
      "outputs": []
    },
    {
      "cell_type": "code",
      "metadata": {
        "id": "_JlSs-3qvCgi",
        "outputId": "357df825-e846-4181-948c-050f2732482a",
        "colab": {
          "base_uri": "https://localhost:8080/",
          "height": 282
        }
      },
      "source": [
        "# A quick example of iterating over a dataset object\n",
        "for image, label in train_ds.take(1):\n",
        "  plt.imshow(image[0], plt.get_cmap('gray'))\n",
        "  print(label[0])"
      ],
      "execution_count": null,
      "outputs": [
        {
          "output_type": "stream",
          "text": [
            "tf.Tensor(8, shape=(), dtype=uint8)\n"
          ],
          "name": "stdout"
        },
        {
          "output_type": "display_data",
          "data": {
            "image/png": "[encoded data removed]",
            "text/plain": [
              "<Figure size 432x288 with 1 Axes>"
            ]
          },
          "metadata": {
            "tags": []
          }
        }
      ]
    },
    {
      "cell_type": "markdown",
      "metadata": {
        "id": "0Nmw1h6stTg5"
      },
      "source": [
        "### Define and train a linear model\n",
        "\n",
        "You may see some warnings running the below code (that's okay, just a matter of TF 2.0 being under active development)."
      ]
    },
    {
      "cell_type": "code",
      "metadata": {
        "id": "BWGJoufMtbHA"
      },
      "source": [
        "class MyLinearModel(Model):\n",
        "  def __init__(self):\n",
        "    super(MyLinearModel, self).__init__()\n",
        "    self.flatten = Flatten()\n",
        "    self.d1 = Dense(10, activation='softmax', name=\"dense1\")\n",
        "\n",
        "  def call(self, x):\n",
        "    x = self.flatten(x)\n",
        "    return self.d1(x)"
      ],
      "execution_count": null,
      "outputs": []
    },
    {
      "cell_type": "code",
      "metadata": {
        "id": "35tIz37EttdP",
        "outputId": "b3a22397-9bcb-44ae-8dcc-011320d69bb7",
        "colab": {
          "base_uri": "https://localhost:8080/",
          "height": 101
        }
      },
      "source": [
        "model = MyLinearModel()\n",
        "\n",
        "loss_fn = tf.keras.losses.SparseCategoricalCrossentropy()\n",
        "optimizer = tf.keras.optimizers.SGD()\n",
        "\n",
        "# For each epoch\n",
        "for epoch in range(5):\n",
        "\n",
        "  # For each batch of images and labels\n",
        "  for images, labels in train_ds:\n",
        "\n",
        "    # Open a GradientTape.\n",
        "    with tf.GradientTape() as tape:\n",
        "\n",
        "      # Forward pass\n",
        "      predictions = model(images)\n",
        "\n",
        "      # Calculate loss\n",
        "      loss = loss_fn(labels, predictions)\n",
        "\n",
        "    # Backprop to calculate gradients\n",
        "    gradients = tape.gradient(loss, model.trainable_variables)\n",
        "\n",
        "    # Gradient descent step\n",
        "    optimizer.apply_gradients(zip(gradients, model.trainable_variables))\n",
        "\n",
        "  # Calculate loss on the test data\n",
        "  test_loss = []\n",
        "  for images, labels in test_ds: \n",
        "    predictions = model(images)\n",
        "    loss_on_batch = loss_fn(labels, predictions)\n",
        "    test_loss.append(loss_on_batch)\n",
        "    \n",
        "  print(\"Epoch {}, Test loss: {}\".format(epoch, tf.reduce_mean(test_loss)))"
      ],
      "execution_count": null,
      "outputs": [
        {
          "output_type": "stream",
          "text": [
            "Epoch 0, Test loss: 0.47709158062934875\n",
            "Epoch 1, Test loss: 0.3978211283683777\n",
            "Epoch 2, Test loss: 0.36521244049072266\n",
            "Epoch 3, Test loss: 0.34670665860176086\n",
            "Epoch 4, Test loss: 0.33420607447624207\n"
          ],
          "name": "stdout"
        }
      ]
    },
    {
      "cell_type": "markdown",
      "metadata": {
        "id": "mEO51Mvi1jOT"
      },
      "source": [
        "Note: you may have noticed that the above code runs slowly (it's executing eagerly). Later in this notebook, you will compile your code (to run it in graph mode) using ```@tf.function```. The general workflow is to write your code without using tf.function (as shown above, which makes for easier debugging). Once you've finished debugging your model, you can add ```@tf.function``` for performance if necessary."
      ]
    },
    {
      "cell_type": "markdown",
      "metadata": {
        "id": "dj7Y8JWgwv9Z"
      },
      "source": [
        "### 2a: Challenge: Visualize the learned weights\n",
        "\n",
        "We can interpret a linear model by looking at the weights of the fully connected layer. Modify the below code to create a plot similar to the one on slide #50 of lecture 1:\n",
        "\n",
        "![Plot of weights](https://storage.googleapis.com/applied-dl/im/mnist-weights.png)\n",
        "\n",
        "**TODO**\n",
        "\n",
        "Modify the below code to retrieve the learned weights. You can use either the public API of a model ```model.get_layer(name)``` then retrieve the weights from that, or (because our model is defined using the Subclassing API), you can access the dense layer directly ```model.d1```."
      ]
    },
    {
      "cell_type": "code",
      "metadata": {
        "id": "JiQZV03RuWHM",
        "outputId": "4de70df9-953d-4b53-d07e-ba7eab4f5371",
        "colab": {
          "base_uri": "https://localhost:8080/",
          "height": 34
        }
      },
      "source": [
        "# There are two ways to retrieve the weights. You can use the public API\n",
        "# (model.get_layer(name).get_weights()), or, you can access the dense layer \n",
        "# directly (model.dl) then find the accessor method, or again, access the\n",
        "# variable directly.\n",
        "# Python tip: try ```dir(model.d1)```\n",
        "\n",
        "# Modify me\n",
        "W = model.get_layer('dense1').get_weights()\n",
        "weights, bias = W # get the weights\n",
        "print(weights.shape)"
      ],
      "execution_count": null,
      "outputs": [
        {
          "output_type": "stream",
          "text": [
            "(784, 10)\n"
          ],
          "name": "stdout"
        }
      ]
    },
    {
      "cell_type": "code",
      "metadata": {
        "id": "oz3VV2EiuY7X",
        "outputId": "fc283c58-7c27-4df4-f562-2ca76241904b",
        "colab": {
          "base_uri": "https://localhost:8080/",
          "height": 141
        }
      },
      "source": [
        "fig, axs = plt.subplots(1,10, figsize=(20,20))\n",
        "for i in range(10):\n",
        "  subplot = axs[i]\n",
        "  subplot.set_title(i)\n",
        "  subplot.axis('off')\n",
        "  # Modify me\n",
        "  i_weights = weights[:,i] # Select the weights for the i'th output\n",
        "  img = i_weights.reshape(28,28) # Reshape the weights into a 28x28 array\n",
        "  subplot.imshow(img, plt.get_cmap('seismic'))\n",
        "plt.show()"
      ],
      "execution_count": null,
      "outputs": [
        {
          "output_type": "display_data",
          "data": {
            "image/png": "[encoded data removed]",
            "text/plain": [
              "<Figure size 1440x1440 with 10 Axes>"
            ]
          },
          "metadata": {
            "tags": []
          }
        }
      ]
    },
    {
      "cell_type": "markdown",
      "metadata": {
        "id": "HNBCIqzdw2GS"
      },
      "source": [
        "### 2b: Implement a deep neural network\n",
        "\n",
        "**TODO**\n",
        "\n",
        "Modify this code to create a deep neural network. Train your model using the code below, and compare the accuracy to the linear model above. \n",
        "\n",
        "Note: you do not need to modify any sections other than the model definition and the call method. \n",
        "\n",
        "The code below uses compiled versions of the training and evaluation loops (remove the ```@tf.function``` annotations if you need to debug)."
      ]
    },
    {
      "cell_type": "code",
      "metadata": {
        "id": "rxoIfq91xDRZ"
      },
      "source": [
        "class MyDNN(Model):\n",
        "  def __init__(self):\n",
        "    super(MyDNN, self).__init__()\n",
        "    self.flatten = Flatten()\n",
        "    # Modify me\n",
        "    self.d2 = Dense(128, activation='relu')\n",
        "    self.d1 = Dense(10, activation='softmax')\n",
        "\n",
        "  def call(self, x):\n",
        "    x = self.flatten(x)\n",
        "    x = self.d2(x)\n",
        "    return self.d1(x)\n",
        "\n",
        "model = MyDNN()"
      ],
      "execution_count": null,
      "outputs": []
    },
    {
      "cell_type": "code",
      "metadata": {
        "id": "hVDDq2orxPBR"
      },
      "source": [
        "loss_object = tf.keras.losses.SparseCategoricalCrossentropy()\n",
        "optimizer = tf.keras.optimizers.Adam()"
      ],
      "execution_count": null,
      "outputs": []
    },
    {
      "cell_type": "markdown",
      "metadata": {
        "id": "WNC0K6JPxy-g"
      },
      "source": [
        "These are helper functions we'll use to record loss and accuracy while your model is trained."
      ]
    },
    {
      "cell_type": "code",
      "metadata": {
        "id": "duYKrACkxRHw"
      },
      "source": [
        "train_loss = tf.keras.metrics.Mean(name='train_loss')\n",
        "train_accuracy = tf.keras.metrics.SparseCategoricalAccuracy(name='train_accuracy')\n",
        "\n",
        "test_loss = tf.keras.metrics.Mean(name='test_loss')\n",
        "test_accuracy = tf.keras.metrics.SparseCategoricalAccuracy(name='test_accuracy')"
      ],
      "execution_count": null,
      "outputs": []
    },
    {
      "cell_type": "markdown",
      "metadata": {
        "id": "C_oUQki5x0lD"
      },
      "source": [
        "This method trains the model on a batch of data."
      ]
    },
    {
      "cell_type": "code",
      "metadata": {
        "id": "yTQAnrOAxUAu"
      },
      "source": [
        "@tf.function\n",
        "def train_step(images, labels):\n",
        "  with tf.GradientTape() as tape:\n",
        "    predictions = model(images)\n",
        "    loss = loss_object(labels, predictions)\n",
        "  gradients = tape.gradient(loss, model.trainable_variables)\n",
        "  optimizer.apply_gradients(zip(gradients, model.trainable_variables))\n",
        "\n",
        "  train_loss(loss)\n",
        "  train_accuracy(labels, predictions)"
      ],
      "execution_count": null,
      "outputs": []
    },
    {
      "cell_type": "markdown",
      "metadata": {
        "id": "-lUJFkfux44o"
      },
      "source": [
        "This method evaluates the model on a batch of data."
      ]
    },
    {
      "cell_type": "code",
      "metadata": {
        "id": "BTMp9PwZxV5h"
      },
      "source": [
        "@tf.function\n",
        "def test_step(images, labels):\n",
        "  predictions = model(images)\n",
        "  t_loss = loss_object(labels, predictions)\n",
        "\n",
        "  test_loss(t_loss)\n",
        "  test_accuracy(labels, predictions)"
      ],
      "execution_count": null,
      "outputs": []
    },
    {
      "cell_type": "markdown",
      "metadata": {
        "id": "AR0_bNd-x6OE"
      },
      "source": [
        "Training and evaluation loop."
      ]
    },
    {
      "cell_type": "code",
      "metadata": {
        "id": "enHqlaCfxXq3",
        "outputId": "780597f8-e6a5-457c-a874-fbdaa878e3b3",
        "colab": {
          "base_uri": "https://localhost:8080/",
          "height": 101
        }
      },
      "source": [
        "EPOCHS = 5\n",
        "\n",
        "for epoch in range(EPOCHS):\n",
        "  for images, labels in train_ds:\n",
        "    train_step(images, labels)\n",
        "\n",
        "  for test_images, test_labels in test_ds:\n",
        "    test_step(test_images, test_labels)\n",
        "\n",
        "  template = 'Epoch {}, Loss: {}, Accuracy: {}, Test Loss: {}, Test Accuracy: {}'\n",
        "  print(template.format(epoch+1,\n",
        "                        train_loss.result(),\n",
        "                        train_accuracy.result()*100,\n",
        "                        test_loss.result(),\n",
        "                        test_accuracy.result()*100))\n",
        "\n",
        "  # Reset the metrics for the next epoch\n",
        "  train_loss.reset_states()\n",
        "  train_accuracy.reset_states()\n",
        "  test_loss.reset_states()\n",
        "  test_accuracy.reset_states()"
      ],
      "execution_count": null,
      "outputs": [
        {
          "output_type": "stream",
          "text": [
            "Epoch 1, Loss: 0.2564210295677185, Accuracy: 92.6866683959961, Test Loss: 0.13921009004116058, Test Accuracy: 95.77000427246094\n",
            "Epoch 2, Loss: 0.1124449223279953, Accuracy: 96.70500183105469, Test Loss: 0.116173654794693, Test Accuracy: 96.37000274658203\n",
            "Epoch 3, Loss: 0.07776255905628204, Accuracy: 97.65499877929688, Test Loss: 0.09708317369222641, Test Accuracy: 97.0999984741211\n",
            "Epoch 4, Loss: 0.05800546705722809, Accuracy: 98.25999450683594, Test Loss: 0.08894293010234833, Test Accuracy: 97.40999603271484\n",
            "Epoch 5, Loss: 0.04397604614496231, Accuracy: 98.6866683959961, Test Loss: 0.07938870787620544, Test Accuracy: 97.6199951171875\n"
          ],
          "name": "stdout"
        }
      ]
    },
    {
      "cell_type": "markdown",
      "metadata": {
        "id": "p3qZ_5tvp1ky"
      },
      "source": [
        "It's more accurate than the linear model."
      ]
    },
    {
      "cell_type": "markdown",
      "metadata": {
        "id": "ZxjIFiyBPorB"
      },
      "source": [
        "### 2c: Provide your own implementation of softmax and use it to train a model\n",
        "\n",
        "In your linear model above, the starter code looked similar to: \n",
        "\n",
        "\n",
        "```\n",
        "class LinearModel(Model):\n",
        "  def __init__(self):\n",
        "    super(LinearModel, self).__init__()\n",
        "    self.flatten = Flatten()\n",
        "    self.d1 = Dense(10, activation='softmax')\n",
        "\n",
        "  def call(self, x):\n",
        "    x = self.flatten(x)\n",
        "    return self.d1(x)\n",
        "``` \n",
        "\n",
        "Now, create a function:\n",
        "\n",
        "\n",
        "```\n",
        "def my_softmax(logits):\n",
        "  # ...\n",
        "```\n",
        "\n",
        "and use it in your model as follows:\n",
        "\n",
        "\n",
        "```\n",
        "class LinearModel(Model):\n",
        "  def __init__(self):\n",
        "    super(LinearModel, self).__init__()\n",
        "    self.flatten = Flatten()\n",
        "    self.d1 = Dense(10)\n",
        "\n",
        "  def call(self, x):\n",
        "    x = self.flatten(x)\n",
        "    x = self.d1(x)\n",
        "    return my_softmax(x)\n",
        "``` \n",
        "\n",
        "Notice, we've removed the built-in activation method on the Dense layer, and added our own to the call method.\n",
        "\n",
        "Tip: You can implement softmax first using NumPy, if you like, the gradually convert your code to use TensorFlow ops (which begin with tf.\\* instead of np.\\*).\n",
        "\n",
        "Notes: \n",
        "\n",
        "- Your softmax implementation should be numerically stable. \n",
        "- You will need to use tf.* ops in order to use your code to train a model (TF cannot backprop through NumPy operations)."
      ]
    },
    {
      "cell_type": "code",
      "metadata": {
        "id": "SiLj-uFrRAn-"
      },
      "source": [
        "# TODO: your code here\n",
        "\n",
        "def my_softmax(x):  \n",
        "  # Modify me\n",
        "  e = tf.math.exp(x)\n",
        "  sumex = tf.math.reduce_sum(e)\n",
        "  a = e/sumex\n",
        "  return a\n",
        "\n",
        "class MyModel(Model):\n",
        "  def __init__(self):\n",
        "    super(MyModel, self).__init__()\n",
        "    self.flatten = Flatten()\n",
        "    self.d1 = Dense(10)\n",
        "\n",
        "  def call(self, x):\n",
        "    x = self.flatten(x)\n",
        "    x = self.d1(x)\n",
        "    return my_softmax(x)\n",
        "  \n",
        "model = MyModel()\n",
        "\n",
        "# TODO\n",
        "# Add code to train you model, your accuracy should be similar \n",
        "# to the linear model."
      ],
      "execution_count": null,
      "outputs": []
    },
    {
      "cell_type": "code",
      "metadata": {
        "id": "gz66xHXs7Bk6"
      },
      "source": [
        "@tf.function\n",
        "def train_step(images, labels):\n",
        "  with tf.GradientTape() as tape:\n",
        "    predictions = model(images)\n",
        "    loss = loss_object(labels, predictions)\n",
        "  gradients = tape.gradient(loss, model.trainable_variables)\n",
        "  optimizer.apply_gradients(zip(gradients, model.trainable_variables))\n",
        "\n",
        "  train_loss(loss)\n",
        "  train_accuracy(labels, predictions)"
      ],
      "execution_count": null,
      "outputs": []
    },
    {
      "cell_type": "code",
      "metadata": {
        "id": "sedNUymX7Xog"
      },
      "source": [
        "@tf.function\n",
        "def test_step(images, labels):\n",
        "  predictions = model(images)\n",
        "  t_loss = loss_object(labels, predictions)\n",
        "\n",
        "  test_loss(t_loss)\n",
        "  test_accuracy(labels, predictions)"
      ],
      "execution_count": null,
      "outputs": []
    },
    {
      "cell_type": "code",
      "metadata": {
        "id": "rogmfvi87ZDF",
        "outputId": "87890282-f4d6-4292-f669-b73fb3b4bcdd",
        "colab": {
          "base_uri": "https://localhost:8080/",
          "height": 101
        }
      },
      "source": [
        "EPOCHS = 5\n",
        "\n",
        "for epoch in range(EPOCHS):\n",
        "  for images, labels in train_ds:\n",
        "    train_step(images, labels)\n",
        "\n",
        "  for test_images, test_labels in test_ds:\n",
        "    test_step(test_images, test_labels)\n",
        "\n",
        "  template = 'Epoch {}, Loss: {}, Accuracy: {}, Test Loss: {}, Test Accuracy: {}'\n",
        "  print(template.format(epoch+1,\n",
        "                        train_loss.result(),\n",
        "                        train_accuracy.result()*100,\n",
        "                        test_loss.result(),\n",
        "                        test_accuracy.result()*100))\n",
        "\n",
        "  # Reset the metrics for the next epoch\n",
        "  train_loss.reset_states()\n",
        "  train_accuracy.reset_states()\n",
        "  test_loss.reset_states()\n",
        "  test_accuracy.reset_states()"
      ],
      "execution_count": null,
      "outputs": [
        {
          "output_type": "stream",
          "text": [
            "Epoch 1, Loss: 0.3581713140010834, Accuracy: 89.9383316040039, Test Loss: 0.2893460690975189, Test Accuracy: 91.97000122070312\n",
            "Epoch 2, Loss: 0.2866586446762085, Accuracy: 91.94499969482422, Test Loss: 0.2756751775741577, Test Accuracy: 92.3499984741211\n",
            "Epoch 3, Loss: 0.2729022204875946, Accuracy: 92.31666564941406, Test Loss: 0.26619482040405273, Test Accuracy: 92.37999725341797\n",
            "Epoch 4, Loss: 0.2642682194709778, Accuracy: 92.62333679199219, Test Loss: 0.2660001814365387, Test Accuracy: 92.54000091552734\n",
            "Epoch 5, Loss: 0.25811639428138733, Accuracy: 92.81666564941406, Test Loss: 0.26120683550834656, Test Accuracy: 92.5\n"
          ],
          "name": "stdout"
        }
      ]
    },
    {
      "cell_type": "code",
      "metadata": {
        "id": "susvjWXq7kOT"
      },
      "source": [
        ""
      ],
      "execution_count": null,
      "outputs": []
    }
  ]
}